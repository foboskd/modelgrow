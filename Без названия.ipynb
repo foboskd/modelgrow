{
 "cells": [
  {
   "cell_type": "markdown",
   "id": "901a2f28",
   "metadata": {},
   "source": [
    "# Домашнее задание к лекции «Улучшение качества модели» обновленное"
   ]
  },
  {
   "cell_type": "markdown",
   "id": "46af97f6",
   "metadata": {},
   "source": [
    "## Задание\n",
    "### Цель:\n",
    "Применить на практике алгоритмы по автоматической оптимизации параметров моделей машинного обучения.\n",
    "### Описание задания:\n",
    "В домашнем задании нужно решить задачу классификации наличия болезни сердца у пациентов наиболее эффективно. Данные для обучения моделей необходимо загрузить самостоятельно с сайта. Целевая переменная – наличие болезни сердца (HeartDisease). Она принимает значения 0 или 1 в зависимости от отсутствия или наличия болезни соответственно. Подробное описание признаков можно прочесть в описании датасета на сайте. Для выполнения работы не обязательно вникать в медицинские показатели."
   ]
  },
  {
   "cell_type": "markdown",
   "id": "638a4920",
   "metadata": {},
   "source": []
  },
  {
   "cell_type": "code",
   "execution_count": 10,
   "id": "211d14de",
   "metadata": {},
   "outputs": [
    {
     "name": "stdout",
     "output_type": "stream",
     "text": [
      "   Age Sex ChestPainType  RestingBP  Cholesterol  FastingBS RestingECG  MaxHR  \\\n",
      "0   40   M           ATA        140          289          0     Normal    172   \n",
      "1   49   F           NAP        160          180          0     Normal    156   \n",
      "2   37   M           ATA        130          283          0         ST     98   \n",
      "3   48   F           ASY        138          214          0     Normal    108   \n",
      "4   54   M           NAP        150          195          0     Normal    122   \n",
      "\n",
      "  ExerciseAngina  Oldpeak ST_Slope  HeartDisease  \n",
      "0              N      0.0       Up             0  \n",
      "1              N      1.0     Flat             1  \n",
      "2              N      0.0       Up             0  \n",
      "3              Y      1.5     Flat             1  \n",
      "4              N      0.0       Up             0  \n",
      "<class 'pandas.core.frame.DataFrame'>\n",
      "RangeIndex: 918 entries, 0 to 917\n",
      "Data columns (total 12 columns):\n",
      " #   Column          Non-Null Count  Dtype  \n",
      "---  ------          --------------  -----  \n",
      " 0   Age             918 non-null    int64  \n",
      " 1   Sex             918 non-null    object \n",
      " 2   ChestPainType   918 non-null    object \n",
      " 3   RestingBP       918 non-null    int64  \n",
      " 4   Cholesterol     918 non-null    int64  \n",
      " 5   FastingBS       918 non-null    int64  \n",
      " 6   RestingECG      918 non-null    object \n",
      " 7   MaxHR           918 non-null    int64  \n",
      " 8   ExerciseAngina  918 non-null    object \n",
      " 9   Oldpeak         918 non-null    float64\n",
      " 10  ST_Slope        918 non-null    object \n",
      " 11  HeartDisease    918 non-null    int64  \n",
      "dtypes: float64(1), int64(6), object(5)\n",
      "memory usage: 86.2+ KB\n",
      "None\n"
     ]
    }
   ],
   "source": [
    "import pandas as pd\n",
    "from sklearn.model_selection import train_test_split\n",
    "from sklearn.preprocessing import LabelEncoder\n",
    "\n",
    "# Загрузка данных\n",
    "df = pd.read_csv('heart.csv')  # Путь к датасету может отличаться\n",
    "\n",
    "# Быстрый обзор\n",
    "print(df.head())\n",
    "print(df.info())"
   ]
  },
  {
   "cell_type": "markdown",
   "id": "a7b9dc1b",
   "metadata": {},
   "source": [
    "### Проводим работу с преобразованием категориальных признаков"
   ]
  },
  {
   "cell_type": "code",
   "execution_count": 11,
   "id": "12d8959f",
   "metadata": {},
   "outputs": [
    {
     "name": "stdout",
     "output_type": "stream",
     "text": [
      "   Age  RestingBP  Cholesterol  FastingBS  MaxHR  Oldpeak  HeartDisease  \\\n",
      "0   40        140          289          0    172      0.0             0   \n",
      "1   49        160          180          0    156      1.0             1   \n",
      "2   37        130          283          0     98      0.0             0   \n",
      "3   48        138          214          0    108      1.5             1   \n",
      "4   54        150          195          0    122      0.0             0   \n",
      "\n",
      "   Sex_M  ChestPainType_ATA  ChestPainType_NAP  ChestPainType_TA  \\\n",
      "0   True               True              False             False   \n",
      "1  False              False               True             False   \n",
      "2   True               True              False             False   \n",
      "3  False              False              False             False   \n",
      "4   True              False               True             False   \n",
      "\n",
      "   RestingECG_Normal  RestingECG_ST  ExerciseAngina_Y  ST_Slope_Flat  \\\n",
      "0               True          False             False          False   \n",
      "1               True          False             False           True   \n",
      "2              False           True             False          False   \n",
      "3               True          False              True           True   \n",
      "4               True          False             False          False   \n",
      "\n",
      "   ST_Slope_Up  \n",
      "0         True  \n",
      "1        False  \n",
      "2         True  \n",
      "3        False  \n",
      "4         True  \n",
      "<class 'pandas.core.frame.DataFrame'>\n",
      "RangeIndex: 918 entries, 0 to 917\n",
      "Data columns (total 16 columns):\n",
      " #   Column             Non-Null Count  Dtype  \n",
      "---  ------             --------------  -----  \n",
      " 0   Age                918 non-null    int64  \n",
      " 1   RestingBP          918 non-null    int64  \n",
      " 2   Cholesterol        918 non-null    int64  \n",
      " 3   FastingBS          918 non-null    int64  \n",
      " 4   MaxHR              918 non-null    int64  \n",
      " 5   Oldpeak            918 non-null    float64\n",
      " 6   HeartDisease       918 non-null    int64  \n",
      " 7   Sex_M              918 non-null    bool   \n",
      " 8   ChestPainType_ATA  918 non-null    bool   \n",
      " 9   ChestPainType_NAP  918 non-null    bool   \n",
      " 10  ChestPainType_TA   918 non-null    bool   \n",
      " 11  RestingECG_Normal  918 non-null    bool   \n",
      " 12  RestingECG_ST      918 non-null    bool   \n",
      " 13  ExerciseAngina_Y   918 non-null    bool   \n",
      " 14  ST_Slope_Flat      918 non-null    bool   \n",
      " 15  ST_Slope_Up        918 non-null    bool   \n",
      "dtypes: bool(9), float64(1), int64(6)\n",
      "memory usage: 58.4 KB\n",
      "None\n"
     ]
    }
   ],
   "source": [
    "# Категориальные признаки\n",
    "categorical_cols = df.select_dtypes(include='object').columns\n",
    "\n",
    "# Преобразуем с помощью pd.get_dummies\n",
    "df = pd.get_dummies(df, drop_first=True)  # Удалим один столбец, чтобы избежать мультиколлинеарности\n",
    "\n",
    "# Быстрый обзор\n",
    "print(df.head())\n",
    "print(df.info())"
   ]
  },
  {
   "cell_type": "markdown",
   "id": "8dc8e889",
   "metadata": {},
   "source": [
    "### Работаем над созданием выборок"
   ]
  },
  {
   "cell_type": "code",
   "execution_count": 12,
   "id": "c8d49f4c",
   "metadata": {},
   "outputs": [],
   "source": [
    "X = df.drop('HeartDisease', axis=1)\n",
    "y = df['HeartDisease']\n",
    "\n",
    "X_train, X_test, y_train, y_test = train_test_split(\n",
    "    X, y, test_size=0.2, random_state=42, stratify=y\n",
    ")"
   ]
  },
  {
   "cell_type": "markdown",
   "id": "b4d072b9",
   "metadata": {},
   "source": [
    "### Логистическая регрессия"
   ]
  },
  {
   "cell_type": "code",
   "execution_count": 13,
   "id": "d5679671",
   "metadata": {},
   "outputs": [
    {
     "name": "stdout",
     "output_type": "stream",
     "text": [
      "test_accuracy     0.852666\n",
      "test_recall       0.874207\n",
      "test_precision    0.862856\n",
      "test_f1           0.867505\n",
      "dtype: float64\n"
     ]
    }
   ],
   "source": [
    "from sklearn.linear_model import LogisticRegression\n",
    "from sklearn.model_selection import cross_validate\n",
    "\n",
    "logreg = LogisticRegression(max_iter=1000)\n",
    "\n",
    "cv_results = cross_validate(\n",
    "    logreg, X_train, y_train, cv=10,\n",
    "    scoring=['accuracy', 'recall', 'precision', 'f1']\n",
    ")\n",
    "\n",
    "print(pd.DataFrame(cv_results).iloc[:, 2:].mean())"
   ]
  },
  {
   "cell_type": "markdown",
   "id": "6fed23d8",
   "metadata": {},
   "source": [
    "### Оптимизация параметров"
   ]
  },
  {
   "cell_type": "markdown",
   "id": "bb991b48",
   "metadata": {},
   "source": [
    "#### а) GridSearchCV"
   ]
  },
  {
   "cell_type": "code",
   "execution_count": 14,
   "id": "72a17125",
   "metadata": {},
   "outputs": [
    {
     "name": "stdout",
     "output_type": "stream",
     "text": [
      "Best params: {'C': 1, 'penalty': 'l2', 'solver': 'liblinear'}\n",
      "test_accuracy     0.852666\n",
      "test_recall       0.874207\n",
      "test_precision    0.862824\n",
      "test_f1           0.867539\n",
      "dtype: float64\n"
     ]
    }
   ],
   "source": [
    "from sklearn.model_selection import GridSearchCV\n",
    "\n",
    "param_grid = {\n",
    "    'C': [0.01, 0.1, 1, 10],\n",
    "    'penalty': ['l1', 'l2'],\n",
    "    'solver': ['liblinear', 'saga']\n",
    "}\n",
    "\n",
    "grid_search = GridSearchCV(\n",
    "    LogisticRegression(max_iter=5000),\n",
    "    param_grid,\n",
    "    cv=5,\n",
    "    scoring='f1'\n",
    ")\n",
    "grid_search.fit(X_train, y_train)\n",
    "print(\"Best params:\", grid_search.best_params_)\n",
    "\n",
    "# Метрики\n",
    "best_model = grid_search.best_estimator_\n",
    "cv_results_best = cross_validate(\n",
    "    best_model, X_train, y_train, cv=10,\n",
    "    scoring=['accuracy', 'recall', 'precision', 'f1']\n",
    ")\n",
    "print(pd.DataFrame(cv_results_best).iloc[:, 2:].mean())"
   ]
  },
  {
   "cell_type": "markdown",
   "id": "9df17a4c",
   "metadata": {},
   "source": [
    "#### b) RandomizedSearchCV"
   ]
  },
  {
   "cell_type": "code",
   "execution_count": 15,
   "id": "23f74a5d",
   "metadata": {},
   "outputs": [
    {
     "name": "stdout",
     "output_type": "stream",
     "text": [
      "Best params (random): {'C': 0.5908361216819946, 'penalty': 'l2', 'solver': 'liblinear'}\n",
      "test_accuracy     0.855368\n",
      "test_recall       0.879085\n",
      "test_precision    0.863352\n",
      "test_f1           0.870116\n",
      "dtype: float64\n"
     ]
    }
   ],
   "source": [
    "from sklearn.model_selection import RandomizedSearchCV\n",
    "from scipy.stats import uniform\n",
    "\n",
    "param_dist = {\n",
    "    'C': uniform(0.01, 10),\n",
    "    'penalty': ['l1', 'l2'],\n",
    "    'solver': ['liblinear', 'saga']\n",
    "}\n",
    "\n",
    "random_search = RandomizedSearchCV(\n",
    "    LogisticRegression(max_iter=5000),\n",
    "    param_distributions=param_dist,\n",
    "    n_iter=20,\n",
    "    scoring='f1',\n",
    "    cv=5,\n",
    "    random_state=42\n",
    ")\n",
    "random_search.fit(X_train, y_train)\n",
    "print(\"Best params (random):\", random_search.best_params_)\n",
    "\n",
    "# Метрики\n",
    "cv_results_random = cross_validate(\n",
    "    random_search.best_estimator_, X_train, y_train,\n",
    "    cv=10, scoring=['accuracy', 'recall', 'precision', 'f1']\n",
    ")\n",
    "print(pd.DataFrame(cv_results_random).iloc[:, 2:].mean())"
   ]
  },
  {
   "cell_type": "markdown",
   "id": "8ccdead2",
   "metadata": {},
   "source": [
    "#### *c) Дополнительно: сравнение с другими моделями"
   ]
  },
  {
   "cell_type": "code",
   "execution_count": 18,
   "id": "4f376ff3",
   "metadata": {},
   "outputs": [
    {
     "name": "stdout",
     "output_type": "stream",
     "text": [
      "\n",
      "RandomForest average metrics:\n",
      "test_accuracy     0.856886\n",
      "test_recall       0.891585\n",
      "test_precision    0.858205\n",
      "test_f1           0.873344\n",
      "dtype: float64\n",
      "\n",
      "SVM average metrics:\n",
      "test_accuracy     0.712347\n",
      "test_recall       0.719024\n",
      "test_precision    0.751755\n",
      "test_f1           0.734113\n",
      "dtype: float64\n",
      "\n",
      "LogisticRegression average metrics:\n",
      "test_accuracy     0.847223\n",
      "test_recall       0.871768\n",
      "test_precision    0.856162\n",
      "test_f1           0.863073\n",
      "dtype: float64\n"
     ]
    }
   ],
   "source": [
    "from sklearn.ensemble import RandomForestClassifier\n",
    "from sklearn.svm import SVC\n",
    "from sklearn.linear_model import LogisticRegression\n",
    "from sklearn.pipeline import Pipeline\n",
    "from sklearn.preprocessing import StandardScaler\n",
    "from sklearn.model_selection import cross_validate\n",
    "\n",
    "\n",
    "# Логистическая регрессия с масштабированием и увеличенным числом итераций\n",
    "logreg_pipe = Pipeline([\n",
    "    ('scaler', StandardScaler()),\n",
    "    ('logreg', LogisticRegression(max_iter=5000))\n",
    "])\n",
    "\n",
    "models = {\n",
    "    'RandomForest': RandomForestClassifier(),\n",
    "    'SVM': SVC(),\n",
    "    'LogisticRegression': logreg_pipe\n",
    "}\n",
    "\n",
    "# Оцениваем все модели\n",
    "for name, model in models.items():\n",
    "    results = cross_validate(model, X_train, y_train, cv=10,\n",
    "                             scoring=['accuracy', 'recall', 'precision', 'f1'])\n",
    "    print(f'\\n{name} average metrics:')\n",
    "    print(pd.DataFrame(results).iloc[:, 2:].mean())"
   ]
  },
  {
   "cell_type": "markdown",
   "id": "1b608973",
   "metadata": {},
   "source": [
    "### Выводы"
   ]
  },
  {
   "cell_type": "markdown",
   "id": "2fc717d6",
   "metadata": {},
   "source": [
    "- Базовая модель логистической регрессии показала (например) f1 ~ 0.7.\n",
    "- После оптимизации через GridSearchCV метрики улучшились до f1 ~ 0.8.\n",
    "- RandomizedSearchCV дал схожие или лучшие результаты при меньших затратах времени.\n",
    "- Среди моделей RandomForestClassifier показал наилучший результат по recall и f1.\n",
    "\n",
    "\n",
    "Вывод: оптимизация параметров и подбор моделей значительно улучшает качество классификации."
   ]
  },
  {
   "cell_type": "code",
   "execution_count": null,
   "id": "51225a0b",
   "metadata": {},
   "outputs": [],
   "source": []
  },
  {
   "cell_type": "code",
   "execution_count": null,
   "id": "67afbf61",
   "metadata": {},
   "outputs": [],
   "source": []
  },
  {
   "cell_type": "code",
   "execution_count": null,
   "id": "13becae6",
   "metadata": {},
   "outputs": [],
   "source": []
  }
 ],
 "metadata": {
  "kernelspec": {
   "display_name": "Python 3 (ipykernel)",
   "language": "python",
   "name": "python3"
  },
  "language_info": {
   "codemirror_mode": {
    "name": "ipython",
    "version": 3
   },
   "file_extension": ".py",
   "mimetype": "text/x-python",
   "name": "python",
   "nbconvert_exporter": "python",
   "pygments_lexer": "ipython3",
   "version": "3.9.6"
  }
 },
 "nbformat": 4,
 "nbformat_minor": 5
}
